{
 "cells": [
  {
   "cell_type": "markdown",
   "metadata": {},
   "source": [
    "# LCOM Metric Table"
   ]
  },
  {
   "cell_type": "code",
   "execution_count": 1,
   "metadata": {},
   "outputs": [
    {
     "name": "stdout",
     "output_type": "stream",
     "text": [
      "Full LCOM Metrics Table:\n",
      "  Project Name                                     Package Name                           Type Name  LCOM1  LCOM2  LCOM3  LCOM4     LCOM5    YALCOM\n",
      "java_websocket                        org.java_websocket.server SSLParametersWebSocketServerFactory    0.0    0.0    1.0    1.0 -0.000000  0.000000\n",
      "java_websocket                        org.java_websocket.server       DefaultWebSocketServerFactory    6.0    0.0    4.0    4.0  0.000000  1.000000\n",
      "java_websocket                        org.java_websocket.server    DefaultSSLWebSocketServerFactory   12.0    9.0    4.0    4.0  0.700000  0.666667\n",
      "java_websocket                        org.java_websocket.server     CustomSSLWebSocketServerFactory    0.0    0.0    1.0    1.0 -0.000000  0.000000\n",
      "java_websocket                        org.java_websocket.server                     WebSocketServer 2384.0 2212.0   33.0    9.0  0.946976  0.097222\n",
      "java_websocket                        org.java_websocket.server                     WebSocketWorker    7.0    4.0    3.0    2.0  0.500000  0.400000\n",
      "java_websocket                               org.java_websocket                   SSLSocketChannel2  244.0  110.0    4.0    1.0  0.867725  0.000000\n",
      "java_websocket                               org.java_websocket                  WrappedByteChannel   10.0    0.0    5.0    5.0  0.000000 -1.000000\n",
      "java_websocket                               org.java_websocket                           WebSocket  325.0    0.0   26.0   26.0  0.000000 -1.000000\n",
      "java_websocket                               org.java_websocket          AbstractWrappedByteChannel    0.0    0.0    1.0    1.0 -0.000000  0.000000\n",
      "java_websocket                               org.java_websocket                       WebSocketImpl 1319.0 1098.0   18.0    6.0  0.942292  0.107143\n",
      "java_websocket                               org.java_websocket                    WebSocketAdapter   15.0   15.0    6.0    6.0  1.000000  1.000000\n",
      "java_websocket                               org.java_websocket                    WebSocketFactory    1.0    0.0    2.0    2.0  0.000000 -1.000000\n",
      "java_websocket                               org.java_websocket              WebSocketServerFactory    6.0    0.0    4.0    4.0  0.000000 -1.000000\n",
      "java_websocket                               org.java_websocket                   AbstractWebSocket  110.0   84.0    5.0    4.0  0.880208  0.235294\n",
      "java_websocket                               org.java_websocket                    SSLSocketChannel   94.0   35.0    6.0    3.0  0.816176  0.166667\n",
      "java_websocket                               org.java_websocket               SocketChannelIOHelper    6.0    0.0    4.0    4.0  0.000000  1.000000\n",
      "java_websocket                               org.java_websocket                   WebSocketListener  120.0    0.0   16.0   16.0  0.000000 -1.000000\n",
      "java_websocket                          org.java_websocket.util                     ByteBufferUtils    3.0    0.0    3.0    3.0  0.000000  1.000000\n",
      "java_websocket                          org.java_websocket.util                    Charsetfunctions   36.0    0.0    9.0    7.0  1.000000  0.777778\n",
      "java_websocket                          org.java_websocket.util                              Base64   55.0    5.0    4.0    3.0  0.912698  0.133333\n",
      "java_websocket                          org.java_websocket.util                        OutputStream    7.0    0.0    2.0    2.0  0.660000  0.333333\n",
      "java_websocket                          org.java_websocket.util                  NamedThreadFactory    0.0    0.0    1.0    1.0  0.500000  0.000000\n",
      "java_websocket                        org.java_websocket.drafts                          Draft_6455 1316.0 1147.0   22.0    9.0  0.944444  0.163636\n",
      "java_websocket                        org.java_websocket.drafts           TranslatedPayloadMetaData    1.0    0.0    1.0    1.0  0.500000  0.000000\n",
      "java_websocket                        org.java_websocket.drafts                               Draft  400.0  394.0   26.0   21.0  0.946429  0.724138\n",
      "java_websocket                     org.java_websocket.handshake                  HandshakedataImpl1   10.0    0.0    2.0    2.0  0.583333  0.285714\n",
      "java_websocket                     org.java_websocket.handshake                     ClientHandshake    0.0    0.0    1.0    1.0  0.000000 -1.000000\n",
      "java_websocket                     org.java_websocket.handshake                HandshakeImpl1Client    0.0    0.0    1.0    1.0 -0.000000  0.000000\n",
      "java_websocket                     org.java_websocket.handshake              ClientHandshakeBuilder    0.0    0.0    1.0    1.0  0.000000 -1.000000\n",
      "java_websocket                     org.java_websocket.handshake              ServerHandshakeBuilder    1.0    0.0    2.0    2.0  0.000000 -1.000000\n",
      "java_websocket                     org.java_websocket.handshake                     ServerHandshake    1.0    0.0    2.0    2.0  0.000000 -1.000000\n",
      "java_websocket                     org.java_websocket.handshake                    HandshakeBuilder    1.0    0.0    2.0    2.0  0.000000 -1.000000\n",
      "java_websocket                     org.java_websocket.handshake                       Handshakedata    6.0    0.0    4.0    4.0  0.000000 -1.000000\n",
      "java_websocket                     org.java_websocket.handshake                HandshakeImpl1Server    4.0    2.0    2.0    2.0  0.666667  0.500000\n",
      "java_websocket                    org.java_websocket.exceptions            InvalidEncodingException    0.0    0.0    1.0    1.0 -0.000000  0.000000\n",
      "java_websocket                    org.java_websocket.exceptions                InvalidDataException    0.0    0.0    1.0    1.0  0.625000  0.000000\n",
      "java_websocket                    org.java_websocket.exceptions               InvalidFrameException    6.0    0.0    4.0    4.0  1.333333  1.000000\n",
      "java_websocket                    org.java_websocket.exceptions      WebsocketNotConnectedException    0.0    0.0    0.0    0.0  0.000000 -1.000000\n",
      "java_websocket                    org.java_websocket.exceptions              LimitExceededException    7.0    4.0    3.0    3.0  0.875000  0.600000\n",
      "java_websocket                    org.java_websocket.exceptions                  WrappedIOException    1.0    0.0    1.0    1.0  0.500000  0.000000\n",
      "java_websocket                    org.java_websocket.exceptions                NotSendableException    3.0    0.0    3.0    3.0  1.500000  1.000000\n",
      "java_websocket                    org.java_websocket.exceptions        IncompleteHandshakeException    0.0    0.0    1.0    1.0  0.750000  0.000000\n",
      "java_websocket                    org.java_websocket.exceptions           InvalidHandshakeException    6.0    0.0    4.0    4.0  1.333333  1.000000\n",
      "java_websocket                    org.java_websocket.exceptions                 IncompleteException    0.0    0.0    1.0    1.0  1.000000  0.000000\n",
      "java_websocket                       org.java_websocket.framing                           Framedata   28.0    0.0    8.0    8.0  0.000000 -1.000000\n",
      "java_websocket                       org.java_websocket.framing                           PongFrame    1.0    0.0    2.0    2.0  0.000000  1.000000\n",
      "java_websocket                       org.java_websocket.framing                          CloseFrame   21.0    0.0    2.0    1.0  0.950000  0.000000\n",
      "java_websocket                       org.java_websocket.framing                      FramedataImpl1  129.0   68.0    3.0    3.0  0.774436  0.150000\n",
      "java_websocket                       org.java_websocket.framing                        ControlFrame    1.0    0.0    2.0    2.0  0.000000  1.000000\n",
      "java_websocket                       org.java_websocket.framing                     ContinuousFrame    0.0    0.0    1.0    1.0  0.000000  0.000000\n",
      "java_websocket                       org.java_websocket.framing                           DataFrame    1.0    0.0    2.0    2.0  0.000000  1.000000\n",
      "java_websocket                       org.java_websocket.framing                           TextFrame    1.0    0.0    2.0    2.0  0.000000  1.000000\n",
      "java_websocket                       org.java_websocket.framing                           PingFrame    0.0    0.0    1.0    1.0  0.000000  0.000000\n",
      "java_websocket                       org.java_websocket.framing                         BinaryFrame    0.0    0.0    1.0    1.0  0.000000  0.000000\n",
      "java_websocket                        org.java_websocket.client                     WebSocketClient 2400.0 1797.0   22.0   10.0  0.937662  0.128205\n",
      "java_websocket                        org.java_websocket.client                WebsocketWriteThread    5.0    4.0    3.0    1.0  0.666667  0.000000\n",
      "java_websocket                        org.java_websocket.client                         DnsResolver    0.0    0.0    1.0    1.0  0.000000 -1.000000\n",
      "java_websocket                    org.java_websocket.interfaces                         ISSLChannel    0.0    0.0    1.0    1.0  0.000000 -1.000000\n",
      "java_websocket                    org.java_websocket.extensions                    DefaultExtension   66.0    0.0   12.0   12.0  0.000000  1.000000\n",
      "java_websocket                    org.java_websocket.extensions                CompressionExtension    0.0    0.0    1.0    1.0  0.000000  0.000000\n",
      "java_websocket                    org.java_websocket.extensions                ExtensionRequestData    2.0    0.0    1.0    1.0  0.666667  0.000000\n",
      "java_websocket                    org.java_websocket.extensions                          IExtension   45.0    0.0   10.0   10.0  0.000000 -1.000000\n",
      "java_websocket org.java_websocket.extensions.permessage_deflate          PerMessageDeflateExtension  168.0  146.0    7.0    5.0  0.944079  0.200000\n",
      "java_websocket                     org.java_websocket.protocols                            Protocol   11.0    1.0    3.0    1.0  0.777778  0.000000\n",
      "java_websocket                     org.java_websocket.protocols                           IProtocol    6.0    0.0    4.0    4.0  0.000000 -1.000000\n"
     ]
    }
   ],
   "source": [
    "import pandas as pd\n",
    "\n",
    "# Load the LCOM results CSV\n",
    "df_lcom = pd.read_csv(\"lcom_output/TypeMetrics.csv\")  # Replace with your actual path\n",
    "\n",
    "# Display full LCOM table\n",
    "print(\"Full LCOM Metrics Table:\")\n",
    "print(df_lcom.to_string(index=False))\n"
   ]
  },
  {
   "cell_type": "markdown",
   "metadata": {},
   "source": [
    "# High LCOM Classes"
   ]
  },
  {
   "cell_type": "code",
   "execution_count": 2,
   "metadata": {},
   "outputs": [
    {
     "name": "stdout",
     "output_type": "stream",
     "text": [
      "Classes with High LCOM (Low Cohesion, Consider Refactoring):\n",
      "  Project Name                                     Package Name                  Type Name  LCOM1  LCOM2  LCOM3  LCOM4    LCOM5    YALCOM\n",
      "java_websocket                        org.java_websocket.server            WebSocketServer 2384.0 2212.0   33.0    9.0 0.946976  0.097222\n",
      "java_websocket                               org.java_websocket          SSLSocketChannel2  244.0  110.0    4.0    1.0 0.867725  0.000000\n",
      "java_websocket                               org.java_websocket                  WebSocket  325.0    0.0   26.0   26.0 0.000000 -1.000000\n",
      "java_websocket                               org.java_websocket              WebSocketImpl 1319.0 1098.0   18.0    6.0 0.942292  0.107143\n",
      "java_websocket                               org.java_websocket          AbstractWebSocket  110.0   84.0    5.0    4.0 0.880208  0.235294\n",
      "java_websocket                               org.java_websocket          WebSocketListener  120.0    0.0   16.0   16.0 0.000000 -1.000000\n",
      "java_websocket                        org.java_websocket.drafts                 Draft_6455 1316.0 1147.0   22.0    9.0 0.944444  0.163636\n",
      "java_websocket                        org.java_websocket.drafts                      Draft  400.0  394.0   26.0   21.0 0.946429  0.724138\n",
      "java_websocket                       org.java_websocket.framing             FramedataImpl1  129.0   68.0    3.0    3.0 0.774436  0.150000\n",
      "java_websocket                        org.java_websocket.client            WebSocketClient 2400.0 1797.0   22.0   10.0 0.937662  0.128205\n",
      "java_websocket org.java_websocket.extensions.permessage_deflate PerMessageDeflateExtension  168.0  146.0    7.0    5.0 0.944079  0.200000\n"
     ]
    }
   ],
   "source": [
    "# Define threshold to flag 'high LCOM' classes\n",
    "high_lcom_threshold = 100  # You can adjust this as per your tool's range\n",
    "\n",
    "# Identify classes with high LCOM (any one of the metrics exceeds threshold)\n",
    "high_lcom_classes = df_lcom[\n",
    "    (df_lcom['LCOM1'] > 100)\n",
    "]\n",
    "\n",
    "# Show only those classes with potential cohesion problems\n",
    "print(\"Classes with High LCOM (Low Cohesion, Consider Refactoring):\")\n",
    "print(high_lcom_classes.to_string(index=False))"
   ]
  }
 ],
 "metadata": {
  "language_info": {
   "name": "python"
  }
 },
 "nbformat": 4,
 "nbformat_minor": 2
}
