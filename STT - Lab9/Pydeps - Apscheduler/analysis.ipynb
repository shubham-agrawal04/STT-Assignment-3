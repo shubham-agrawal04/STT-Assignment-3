{
 "cells": [
  {
   "cell_type": "markdown",
   "metadata": {},
   "source": [
    "# Imports"
   ]
  },
  {
   "cell_type": "code",
   "execution_count": 10,
   "metadata": {},
   "outputs": [],
   "source": [
    "import json\n",
    "from collections import defaultdict, deque\n",
    "import pandas as pd"
   ]
  },
  {
   "cell_type": "markdown",
   "metadata": {},
   "source": [
    "# Loading File and Converting into Graph"
   ]
  },
  {
   "cell_type": "code",
   "execution_count": 11,
   "metadata": {},
   "outputs": [],
   "source": [
    "# Load your pydeps-style JSON (flat structure)\n",
    "with open(\"dependencies.json\") as f:\n",
    "    data = json.load(f)\n",
    "\n",
    "# Initialize graphs\n",
    "graph = defaultdict(set)         # module -> set of imports\n",
    "reverse_graph = defaultdict(set) # module -> set of modules that import it\n",
    "all_modules = set(data.keys())\n",
    "\n",
    "# Build dependency and reverse dependency graphs\n",
    "for mod, info in data.items():\n",
    "    imports = info.get(\"imports\", [])\n",
    "    for dep in imports:\n",
    "        graph[mod].add(dep)\n",
    "        reverse_graph[dep].add(mod)"
   ]
  },
  {
   "cell_type": "markdown",
   "metadata": {},
   "source": [
    "# Calculating Fan-in and Fan-out"
   ]
  },
  {
   "cell_type": "code",
   "execution_count": 12,
   "metadata": {},
   "outputs": [
    {
     "name": "stdout",
     "output_type": "stream",
     "text": [
      "                               module  fan_in  fan_out  total_coupling\n",
      "                             __main__       0       45              45\n",
      "                                attrs      30        4              34\n",
      "       apscheduler._schedulers.async_       4       26              30\n",
      "                      apscheduler.abc      21        4              25\n",
      "              apscheduler._structures      15       10              25\n",
      "                   apscheduler._utils      21        3              24\n",
      "                                 attr      19        3              22\n",
      "                          apscheduler      10       11              21\n",
      "                  apscheduler._events      14        6              20\n",
      "        apscheduler.eventbrokers.base       6       11              17\n",
      "                      attr.validators      15        0              15\n",
      "    apscheduler.datastores.sqlalchemy       1       13              14\n",
      "         apscheduler._schedulers.sync       3       11              14\n",
      "       apscheduler.datastores.mongodb       1       12              13\n",
      "                                anyio      13        0              13\n",
      "     apscheduler.eventbrokers.psycopg       1       12              13\n",
      "     apscheduler.eventbrokers.asyncpg       1       11              12\n",
      "              apscheduler._exceptions      12        0              12\n",
      "              apscheduler._converters      11        0              11\n",
      "              apscheduler._decorators       3        7              10\n",
      "        apscheduler.datastores.memory       2        8              10\n",
      "                   apscheduler._enums      10        0              10\n",
      "        apscheduler.eventbrokers.mqtt       1        9              10\n",
      "                            anyio.abc       8        1               9\n",
      "          apscheduler.datastores.base       4        5               9\n",
      "              apscheduler._validators       6        3               9\n",
      "       apscheduler.eventbrokers.redis       1        7               8\n",
      "                    typing_extensions       8        0               8\n",
      "            apscheduler.triggers.cron       1        7               8\n",
      "apscheduler.triggers.cron.expressions       2        6               8\n",
      "                 apscheduler._context       3        4               7\n",
      "        apscheduler.triggers.interval       1        6               7\n",
      "       apscheduler.triggers.combining       1        6               7\n",
      "apscheduler.triggers.calendarinterval       1        6               7\n",
      "         apscheduler.executors.thread       2        5               7\n",
      "     apscheduler.executors.subprocess       2        5               7\n",
      "                   apscheduler._retry       4        3               7\n",
      "                      anyio.to_thread       5        2               7\n",
      "            apscheduler.triggers.date       1        6               7\n",
      "         apscheduler.serializers.json       2        4               6\n",
      "       apscheduler.eventbrokers.local       2        4               6\n",
      "             apscheduler._marshalling       5        1               6\n",
      "                    anyio.from_thread       4        2               6\n",
      "             apscheduler.executors.qt       1        5               6\n",
      "         apscheduler.serializers.cbor       1        4               5\n",
      "                     attrs.validators       3        2               5\n",
      "       apscheduler.serializers.pickle       2        3               5\n",
      "     apscheduler.triggers.cron.fields       3        1               4\n",
      "                     anyio.to_process       1        3               4\n",
      "                 anyio.streams.memory       2        2               4\n",
      "         apscheduler.executors.async_       2        2               4\n",
      "                        anyio.streams       3        0               3\n",
      "              apscheduler._schedulers       3        0               3\n",
      "              apscheduler.serializers       3        0               3\n",
      "                     attrs.converters       2        1               3\n",
      "                         attr.setters       2        1               3\n",
      "               apscheduler.datastores       2        0               2\n",
      "             apscheduler.eventbrokers       2        0               2\n",
      "                apscheduler.executors       2        0               2\n",
      "                 apscheduler.triggers       1        0               1\n",
      "                              sniffio       1        0               1\n"
     ]
    }
   ],
   "source": [
    "# Fan-in and fan-out\n",
    "fan_in = {mod: len(reverse_graph[mod]) for mod in all_modules}\n",
    "fan_out = {mod: len(graph[mod]) for mod in all_modules}\n",
    "\n",
    "\n",
    "# Create DataFrame from fan-in and fan-out\n",
    "df_fan = pd.DataFrame([\n",
    "    {\"module\": mod, \"fan_in\": fan_in.get(mod, 0), \"fan_out\": fan_out.get(mod, 0)}\n",
    "    for mod in sorted(set(fan_in) | set(fan_out))\n",
    "])\n",
    "\n",
    "# Optional: Sort by total coupling (fan_in + fan_out)\n",
    "df_fan[\"total_coupling\"] = df_fan[\"fan_in\"] + df_fan[\"fan_out\"]\n",
    "df_fan = df_fan.sort_values(by=\"total_coupling\", ascending=False)\n",
    "\n",
    "# Display the table\n",
    "print(df_fan.to_string(index=False))"
   ]
  },
  {
   "cell_type": "markdown",
   "metadata": {},
   "source": [
    "# Highly Coupled Modules"
   ]
  },
  {
   "cell_type": "code",
   "execution_count": 7,
   "metadata": {},
   "outputs": [
    {
     "name": "stdout",
     "output_type": "stream",
     "text": [
      "Highly Coupled Modules: ['apscheduler._utils', 'apscheduler', 'apscheduler._schedulers.async_', 'apscheduler.abc', 'apscheduler._structures', 'attr', '__main__', 'attrs']\n"
     ]
    }
   ],
   "source": [
    "# Highly coupled modules (fan-in + fan-out exceeds threshold)\n",
    "coupling_threshold = 20\n",
    "highly_coupled = [mod for mod in all_modules if fan_in[mod] + fan_out[mod] > coupling_threshold]\n",
    "print(\"Highly Coupled Modules:\", highly_coupled)"
   ]
  },
  {
   "cell_type": "markdown",
   "metadata": {},
   "source": [
    "# Unused and Disconnected Modules"
   ]
  },
  {
   "cell_type": "code",
   "execution_count": 9,
   "metadata": {},
   "outputs": [
    {
     "name": "stdout",
     "output_type": "stream",
     "text": [
      "Unused Modules: []\n",
      "Disconnected Modules: ['apscheduler.triggers', 'typing_extensions', 'sniffio', 'apscheduler._exceptions', 'apscheduler._converters', 'anyio.streams', 'apscheduler.eventbrokers', 'apscheduler.serializers', 'apscheduler.datastores', 'anyio', 'apscheduler.executors', 'apscheduler._schedulers', 'attr.validators', '__main__', 'apscheduler._enums']\n"
     ]
    }
   ],
   "source": [
    "# Unused modules (no in or out edges)\n",
    "unused = [mod for mod in all_modules if fan_in[mod] == 0 and fan_out[mod] == 0]\n",
    "\n",
    "# Disconnected modules (either fan-in or fan-out is 0)\n",
    "disconnected = [mod for mod in all_modules if fan_in[mod] == 0 or fan_out[mod] == 0]\n",
    "\n",
    "print(\"Unused Modules:\", unused)\n",
    "print(\"Disconnected Modules:\", disconnected)"
   ]
  },
  {
   "cell_type": "markdown",
   "metadata": {},
   "source": [
    "# Cyclic Dependencies"
   ]
  },
  {
   "cell_type": "code",
   "execution_count": 14,
   "metadata": {},
   "outputs": [
    {
     "name": "stdout",
     "output_type": "stream",
     "text": [
      "\n",
      "Total Cycles Detected: 34\n",
      "\n",
      "Cycle 1: anyio.abc -> anyio.from_thread -> anyio.abc\n",
      "Cycle 2: attr -> attr\n",
      "Cycle 3: attr -> attr.setters -> attr\n",
      "Cycle 4: apscheduler.abc -> apscheduler._structures -> apscheduler._validators -> apscheduler._utils -> apscheduler.abc\n",
      "Cycle 5: apscheduler._structures -> apscheduler._validators -> apscheduler._utils -> apscheduler._structures\n",
      "Cycle 6: apscheduler.abc -> apscheduler._structures -> apscheduler._validators -> apscheduler -> apscheduler._context -> apscheduler._schedulers.async_ -> apscheduler.executors.async_ -> apscheduler.abc\n",
      "Cycle 7: apscheduler._structures -> apscheduler._validators -> apscheduler -> apscheduler._context -> apscheduler._schedulers.async_ -> apscheduler.executors.async_ -> apscheduler._structures\n",
      "Cycle 8: apscheduler.datastores.base -> apscheduler.serializers.pickle -> apscheduler.abc -> apscheduler._structures -> apscheduler._validators -> apscheduler -> apscheduler._context -> apscheduler._schedulers.async_ -> apscheduler.datastores.memory -> apscheduler.datastores.base\n",
      "Cycle 9: attrs -> attrs\n",
      "Cycle 10: apscheduler._structures -> apscheduler._validators -> apscheduler -> apscheduler._context -> apscheduler._schedulers.async_ -> apscheduler.datastores.memory -> apscheduler._events -> apscheduler._structures\n",
      "Cycle 11: apscheduler -> apscheduler._context -> apscheduler._schedulers.async_ -> apscheduler.datastores.memory -> apscheduler\n",
      "Cycle 12: apscheduler._structures -> apscheduler._validators -> apscheduler -> apscheduler._context -> apscheduler._schedulers.async_ -> apscheduler.datastores.memory -> apscheduler._structures\n",
      "Cycle 13: apscheduler.abc -> apscheduler._structures -> apscheduler._validators -> apscheduler -> apscheduler._context -> apscheduler._schedulers.async_ -> apscheduler.executors.subprocess -> apscheduler.abc\n",
      "Cycle 14: apscheduler._structures -> apscheduler._validators -> apscheduler -> apscheduler._context -> apscheduler._schedulers.async_ -> apscheduler.executors.subprocess -> apscheduler._structures\n",
      "Cycle 15: apscheduler._validators -> apscheduler -> apscheduler._context -> apscheduler._schedulers.async_ -> apscheduler._validators\n",
      "Cycle 16: apscheduler -> apscheduler._context -> apscheduler._schedulers.async_ -> apscheduler\n",
      "Cycle 17: apscheduler.abc -> apscheduler._structures -> apscheduler._validators -> apscheduler -> apscheduler._context -> apscheduler._schedulers.async_ -> apscheduler.abc\n",
      "Cycle 18: apscheduler._structures -> apscheduler._validators -> apscheduler -> apscheduler._context -> apscheduler._schedulers.async_ -> apscheduler._structures\n",
      "Cycle 19: apscheduler._context -> apscheduler._schedulers.async_ -> apscheduler._context\n",
      "Cycle 20: apscheduler._validators -> apscheduler -> apscheduler._context -> apscheduler._schedulers.async_ -> apscheduler._decorators -> apscheduler._validators\n",
      "Cycle 21: apscheduler._structures -> apscheduler._validators -> apscheduler -> apscheduler._context -> apscheduler._schedulers.async_ -> apscheduler._decorators -> apscheduler._structures\n",
      "Cycle 22: apscheduler -> apscheduler._context -> apscheduler._schedulers.async_ -> apscheduler.eventbrokers.local -> apscheduler.eventbrokers.base -> apscheduler\n",
      "Cycle 23: apscheduler.abc -> apscheduler._structures -> apscheduler._validators -> apscheduler -> apscheduler._context -> apscheduler._schedulers.async_ -> apscheduler.eventbrokers.local -> apscheduler.eventbrokers.base -> apscheduler.abc\n",
      "Cycle 24: apscheduler.abc -> apscheduler._structures -> apscheduler._validators -> apscheduler -> apscheduler._context -> apscheduler._schedulers.async_ -> apscheduler.eventbrokers.local -> apscheduler.eventbrokers.base -> apscheduler.serializers.json -> apscheduler.abc\n",
      "Cycle 25: apscheduler -> apscheduler._context -> apscheduler._schedulers.async_ -> apscheduler.eventbrokers.local -> apscheduler.eventbrokers.base -> apscheduler.serializers.json -> apscheduler\n",
      "Cycle 26: apscheduler.abc -> apscheduler._structures -> apscheduler._validators -> apscheduler -> apscheduler._context -> apscheduler._schedulers.async_ -> apscheduler.executors.thread -> apscheduler.abc\n",
      "Cycle 27: apscheduler._structures -> apscheduler._validators -> apscheduler -> apscheduler._context -> apscheduler._schedulers.async_ -> apscheduler.executors.thread -> apscheduler._structures\n",
      "Cycle 28: apscheduler._structures -> apscheduler._validators -> apscheduler -> apscheduler._context -> apscheduler._structures\n",
      "Cycle 29: apscheduler -> apscheduler._context -> apscheduler._schedulers.sync -> apscheduler\n",
      "Cycle 30: apscheduler.abc -> apscheduler._structures -> apscheduler._validators -> apscheduler -> apscheduler._context -> apscheduler._schedulers.sync -> apscheduler.abc\n",
      "Cycle 31: apscheduler._structures -> apscheduler._validators -> apscheduler -> apscheduler._context -> apscheduler._schedulers.sync -> apscheduler._structures\n",
      "Cycle 32: apscheduler._structures -> apscheduler._validators -> apscheduler -> apscheduler._structures\n",
      "Cycle 33: apscheduler.abc -> apscheduler._structures -> apscheduler.abc\n",
      "Cycle 34: apscheduler.triggers.cron.expressions -> apscheduler.triggers.cron.fields -> apscheduler.triggers.cron.expressions\n"
     ]
    }
   ],
   "source": [
    "def detect_cycles(graph):\n",
    "    visited = set()\n",
    "    path = []\n",
    "    cycles = []\n",
    "\n",
    "    def dfs(node, stack):\n",
    "        visited.add(node)\n",
    "        stack.append(node)\n",
    "\n",
    "        for neighbor in graph.get(node, []):\n",
    "            if neighbor not in visited:\n",
    "                dfs(neighbor, stack)\n",
    "            elif neighbor in stack:\n",
    "                # Found a cycle; slice path from neighbor to current\n",
    "                cycle_start_index = stack.index(neighbor)\n",
    "                cycle = stack[cycle_start_index:].copy()\n",
    "                cycles.append(cycle)\n",
    "\n",
    "        stack.pop()\n",
    "\n",
    "    for node in graph:\n",
    "        if node not in visited:\n",
    "            dfs(node, [])\n",
    "\n",
    "    return cycles\n",
    "\n",
    "\n",
    "\n",
    "cycle_paths = detect_cycles(graph)\n",
    "\n",
    "print(f\"\\nTotal Cycles Detected: {len(cycle_paths)}\\n\")\n",
    "for idx, cycle in enumerate(cycle_paths, 1):\n",
    "    print(f\"Cycle {idx}: {' -> '.join(cycle)} -> {cycle[0]}\")\n"
   ]
  },
  {
   "cell_type": "markdown",
   "metadata": {},
   "source": [
    "# Depth of Dependencies"
   ]
  },
  {
   "cell_type": "code",
   "execution_count": 20,
   "metadata": {},
   "outputs": [
    {
     "name": "stdout",
     "output_type": "stream",
     "text": [
      "Dependency Depths:\n",
      "                               module  depth\n",
      "            apscheduler.triggers.cron      8\n",
      "       apscheduler.triggers.combining      8\n",
      "            apscheduler.triggers.date      8\n",
      "        apscheduler.triggers.interval      8\n",
      "apscheduler.triggers.calendarinterval      8\n",
      "       apscheduler.datastores.mongodb      7\n",
      "         apscheduler.executors.async_      7\n",
      "    apscheduler.datastores.sqlalchemy      7\n",
      "     apscheduler.executors.subprocess      7\n",
      "                   apscheduler._utils      7\n",
      "                  apscheduler._events      7\n",
      "                      apscheduler.abc      7\n",
      "     apscheduler.triggers.cron.fields      7\n",
      "         apscheduler.executors.thread      7\n",
      "          apscheduler.datastores.base      6\n",
      "apscheduler.triggers.cron.expressions      6\n",
      "       apscheduler.eventbrokers.redis      6\n",
      "     apscheduler.eventbrokers.psycopg      6\n",
      "              apscheduler._structures      6\n",
      "              apscheduler._decorators      6\n",
      "       apscheduler.eventbrokers.local      6\n",
      "        apscheduler.eventbrokers.mqtt      6\n",
      "     apscheduler.eventbrokers.asyncpg      6\n",
      "         apscheduler.serializers.cbor      5\n",
      "             apscheduler.executors.qt      5\n",
      "        apscheduler.datastores.memory      5\n",
      "        apscheduler.eventbrokers.base      5\n",
      "         apscheduler.serializers.json      5\n",
      "       apscheduler.serializers.pickle      5\n",
      "              apscheduler._validators      5\n",
      "                          apscheduler      4\n",
      "         apscheduler._schedulers.sync      4\n",
      "                 apscheduler._context      4\n",
      "                 anyio.streams.memory      3\n",
      "       apscheduler._schedulers.async_      3\n",
      "                     attrs.validators      2\n",
      "                            anyio.abc      2\n",
      "                         attr.setters      2\n",
      "                      anyio.to_thread      2\n",
      "                     attrs.converters      2\n",
      "                             __main__      2\n",
      "                                attrs      2\n",
      "                   apscheduler._retry      2\n",
      "                     anyio.to_process      2\n",
      "                    anyio.from_thread      1\n",
      "                                 attr      1\n",
      "             apscheduler._marshalling      1\n",
      "                 apscheduler.triggers      0\n",
      "                    typing_extensions      0\n",
      "                              sniffio      0\n",
      "              apscheduler._exceptions      0\n",
      "              apscheduler._converters      0\n",
      "                        anyio.streams      0\n",
      "             apscheduler.eventbrokers      0\n",
      "              apscheduler.serializers      0\n",
      "               apscheduler.datastores      0\n",
      "                                anyio      0\n",
      "                apscheduler.executors      0\n",
      "              apscheduler._schedulers      0\n",
      "                      attr.validators      0\n",
      "                   apscheduler._enums      0\n"
     ]
    }
   ],
   "source": [
    "# Depth of dependencies using BFS\n",
    "def compute_depth(start):\n",
    "    visited = set()\n",
    "    queue = deque([(start, 0)])\n",
    "    max_depth = 0\n",
    "    while queue:\n",
    "        node, depth = queue.popleft()\n",
    "        if node not in visited:\n",
    "            visited.add(node)\n",
    "            max_depth = max(max_depth, depth)\n",
    "            for neighbor in graph.get(node, []):\n",
    "                queue.append((neighbor, depth + 1))\n",
    "    return max_depth\n",
    "\n",
    "dependency_depths = {mod: compute_depth(mod) for mod in all_modules}\n",
    "dependency_depths = sorted(dependency_depths.items(), key=lambda x: x[1], reverse=True)\n",
    "print(\"Dependency Depths:\")\n",
    "df_depths = pd.DataFrame(dependency_depths, columns=[\"module\", \"depth\"])\n",
    "print(df_depths.to_string(index=False))"
   ]
  },
  {
   "cell_type": "markdown",
   "metadata": {},
   "source": [
    "# Core Modules and Their Impact"
   ]
  },
  {
   "cell_type": "code",
   "execution_count": 25,
   "metadata": {},
   "outputs": [
    {
     "name": "stdout",
     "output_type": "stream",
     "text": [
      "Top Core Modules (by fan-in): [('attrs', 30), ('apscheduler._utils', 21), ('apscheduler.abc', 21)]\n",
      "\n",
      "Modules affected if core modules are modified:\n",
      "  attrs affects 37 module(s): {'apscheduler.datastores.mongodb', 'apscheduler.serializers.cbor', 'apscheduler.datastores.base', 'apscheduler.executors.async_', 'apscheduler.triggers.cron.expressions', 'apscheduler.executors.qt', 'apscheduler.datastores.sqlalchemy', 'apscheduler.datastores.memory', 'apscheduler.eventbrokers.redis', 'apscheduler.executors.subprocess', 'apscheduler.eventbrokers.psycopg', 'apscheduler.eventbrokers.base', 'apscheduler._utils', 'apscheduler.serializers.json', 'apscheduler.serializers.pickle', 'apscheduler._validators', 'apscheduler._events', 'apscheduler.abc', 'apscheduler._schedulers.async_', 'apscheduler', 'apscheduler._schedulers.sync', 'apscheduler.triggers.cron.fields', 'apscheduler.triggers.cron', 'apscheduler._structures', 'apscheduler._decorators', 'apscheduler._context', 'apscheduler.eventbrokers.local', 'apscheduler.eventbrokers.mqtt', 'apscheduler.triggers.combining', 'apscheduler.triggers.interval', 'apscheduler.triggers.date', 'apscheduler.eventbrokers.asyncpg', 'apscheduler.executors.thread', 'apscheduler.triggers.calendarinterval', 'attrs', '__main__', 'apscheduler._retry'}\n",
      "  apscheduler._utils affects 35 module(s): {'apscheduler.datastores.mongodb', 'apscheduler.serializers.cbor', 'apscheduler.datastores.base', 'apscheduler.executors.async_', 'apscheduler.triggers.cron.expressions', 'apscheduler.executors.qt', 'apscheduler.datastores.memory', 'apscheduler.datastores.sqlalchemy', 'apscheduler.eventbrokers.redis', 'apscheduler.executors.subprocess', 'apscheduler.eventbrokers.psycopg', 'apscheduler.eventbrokers.base', 'apscheduler._utils', 'apscheduler.serializers.json', 'apscheduler.serializers.pickle', 'apscheduler._validators', 'apscheduler._events', 'apscheduler.abc', 'apscheduler._schedulers.async_', 'apscheduler', 'apscheduler._schedulers.sync', 'apscheduler.triggers.cron.fields', 'apscheduler.triggers.cron', 'apscheduler._structures', 'apscheduler._decorators', 'apscheduler._context', 'apscheduler.eventbrokers.local', 'apscheduler.eventbrokers.mqtt', 'apscheduler.triggers.combining', 'apscheduler.triggers.interval', 'apscheduler.triggers.date', 'apscheduler.eventbrokers.asyncpg', 'apscheduler.executors.thread', 'apscheduler.triggers.calendarinterval', '__main__'}\n",
      "  apscheduler.abc affects 35 module(s): {'apscheduler.datastores.mongodb', 'apscheduler.serializers.cbor', 'apscheduler.datastores.base', 'apscheduler.executors.async_', 'apscheduler.triggers.cron.expressions', 'apscheduler.executors.qt', 'apscheduler.datastores.sqlalchemy', 'apscheduler.datastores.memory', 'apscheduler.eventbrokers.redis', 'apscheduler.executors.subprocess', 'apscheduler.eventbrokers.psycopg', 'apscheduler.eventbrokers.base', 'apscheduler._utils', 'apscheduler.serializers.json', 'apscheduler.serializers.pickle', 'apscheduler._validators', 'apscheduler._events', 'apscheduler.abc', 'apscheduler._schedulers.async_', 'apscheduler', 'apscheduler._schedulers.sync', 'apscheduler.triggers.cron.fields', 'apscheduler.triggers.cron', 'apscheduler._structures', 'apscheduler._decorators', 'apscheduler._context', 'apscheduler.eventbrokers.local', 'apscheduler.eventbrokers.mqtt', 'apscheduler.triggers.combining', 'apscheduler.triggers.interval', 'apscheduler.triggers.date', 'apscheduler.eventbrokers.asyncpg', 'apscheduler.executors.thread', 'apscheduler.triggers.calendarinterval', '__main__'}\n"
     ]
    }
   ],
   "source": [
    "# Core modules = high fan-in\n",
    "core_modules = sorted(fan_in.items(), key=lambda x: x[1], reverse=True)[:3]\n",
    "\n",
    "# Determine impacted modules if core module changes (traverse reverse graph)\n",
    "def impacted_by(mod):\n",
    "    impacted = set()\n",
    "    queue = deque([mod])\n",
    "    while queue:\n",
    "        current = queue.popleft()\n",
    "        for dependent in reverse_graph.get(current, []):\n",
    "            if dependent not in impacted:\n",
    "                impacted.add(dependent)\n",
    "                queue.append(dependent)\n",
    "    return impacted\n",
    "\n",
    "core_module_impact = {mod: impacted_by(mod) for mod, _ in core_modules}\n",
    "\n",
    "print(\"Top Core Modules (by fan-in):\", core_modules)\n",
    "print(\"\\nModules affected if core modules are modified:\")\n",
    "for core, impacted in core_module_impact.items():\n",
    "    print(f\"  {core} affects {len(impacted)} module(s): {impacted}\")"
   ]
  }
 ],
 "metadata": {
  "language_info": {
   "name": "python"
  }
 },
 "nbformat": 4,
 "nbformat_minor": 2
}
